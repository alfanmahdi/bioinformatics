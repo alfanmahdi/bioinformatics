{
 "cells": [
  {
   "cell_type": "code",
   "execution_count": 1,
   "id": "b6e17e88",
   "metadata": {},
   "outputs": [],
   "source": [
    "from numpy import log2, sqrt\n",
    "from numpy import pi\n",
    "\n",
    "from qiskit.visualization import plot_histogram\n",
    "from qiskit.circuit.gate import Gate\n",
    "from qiskit import QuantumCircuit, QuantumRegister, ClassicalRegister\n",
    "from qiskit_aer import Aer\n",
    "from qiskit import transpile"
   ]
  },
  {
   "cell_type": "code",
   "execution_count": 2,
   "id": "592dc3ec",
   "metadata": {},
   "outputs": [],
   "source": [
    "from qiskit_ibm_runtime import QiskitRuntimeService, Sampler"
   ]
  },
  {
   "cell_type": "code",
   "execution_count": 4,
   "id": "87f72674",
   "metadata": {},
   "outputs": [
    {
     "name": "stdout",
     "output_type": "stream",
     "text": [
      "[<IBMBackend('ibm_brisbane')>, <IBMBackend('ibm_sherbrooke')>, <IBMBackend('ibm_torino')>]\n"
     ]
    }
   ],
   "source": [
    "service = QiskitRuntimeService()\n",
    "print(service.backends())"
   ]
  },
  {
   "cell_type": "code",
   "execution_count": 5,
   "id": "3270a3da",
   "metadata": {},
   "outputs": [],
   "source": [
    "def run(circuit, shots=1024):\n",
    "    backend = service.backend('ibm_brisbane')\n",
    "    transpiled = transpile(circuit, backend)\n",
    "    sampler = Sampler(mode=backend)\n",
    "    job = sampler.run([transpiled], shots=shots)\n",
    "    print(f\">>> Job ID: {job.job_id()}\")\n",
    "    print(f\">>> Job Status: {job.status()}\")\n",
    "    result = job.result()\n",
    "    pub_result = result[0]\n",
    "    counts = pub_result.join_data().get_counts()\n",
    "    return counts"
   ]
  },
  {
   "cell_type": "code",
   "execution_count": 6,
   "id": "9c57cb38",
   "metadata": {},
   "outputs": [],
   "source": [
    "def init_register(bin_str: str) -> QuantumCircuit:\n",
    "    data_qr = QuantumRegister(len(bin_str), 'data')\n",
    "    qc = QuantumCircuit(data_qr)\n",
    "\n",
    "    for i, bit in enumerate(bin_str):\n",
    "        if bit == '1':\n",
    "            qc.x(data_qr[i])\n",
    "\n",
    "    return qc"
   ]
  },
  {
   "cell_type": "code",
   "execution_count": 7,
   "id": "d761607f",
   "metadata": {},
   "outputs": [],
   "source": [
    "def rot(n: int, s: int) -> QuantumCircuit:\n",
    "    y_qr = QuantumRegister(n, 'y')\n",
    "    qc = QuantumCircuit(y_qr, name='ROT_' + str(s))\n",
    "\n",
    "    for i in range(1, (int(log2(n)) - int(log2(s)) + 2)):\n",
    "        for j in range(int(n / (s * (2**i)))):\n",
    "            for q in range(j * s * (2**i), s * (j*2 ** i+1)):\n",
    "                qc.swap(n - 1 - (q+s), n - 1 - (q+2 ** (i-1) * s + s))\n",
    "\n",
    "    return qc"
   ]
  },
  {
   "cell_type": "code",
   "execution_count": 8,
   "id": "027d262f",
   "metadata": {},
   "outputs": [],
   "source": [
    "def rot_gate(n: int, s: int) -> Gate:\n",
    "    rot_circuit = rot(n, s)\n",
    "    return rot_circuit.to_gate(label='ROT_' + str(s))"
   ]
  },
  {
   "cell_type": "code",
   "execution_count": 9,
   "id": "019960a6",
   "metadata": {},
   "outputs": [],
   "source": [
    "def parameterized_rot(n: int) -> QuantumCircuit:\n",
    "    j_qr = QuantumRegister(int(log2(n)), 'j')\n",
    "    y_qr = QuantumRegister(n, 'y')\n",
    "    qc = QuantumCircuit(j_qr, y_qr)\n",
    "\n",
    "    for i in range(int(log2(n))):\n",
    "        crot = rot_gate(n, 2**i).control(1)\n",
    "        qc = qc.compose(crot, [j_qr[i]] + y_qr[:])\n",
    "\n",
    "    return qc"
   ]
  },
  {
   "cell_type": "code",
   "execution_count": 10,
   "id": "43a238cf",
   "metadata": {},
   "outputs": [],
   "source": [
    "def match_gate_improved(m: int, pattern_x: str) -> Gate:\n",
    "    \"\"\"\n",
    "    Membuat gerbang oracle 'match' yang membandingkan slice dari register 'y'\n",
    "    dengan pola klasik 'pattern_x' yang di-hardcode.\n",
    "    \"\"\"\n",
    "    y_qr = QuantumRegister(m, 'y')\n",
    "    out_qr = QuantumRegister(1, 'out')\n",
    "    qc = QuantumCircuit(y_qr, out_qr, name=f\"MATCH_{pattern_x}\")\n",
    "\n",
    "    # Terapkan gerbang X pada qubit y jika bit pola adalah '0'.\n",
    "    # Ini untuk menyamakan semua kondisi match menjadi |11...1>\n",
    "    for i in range(m):\n",
    "        if pattern_x[i] == '0':\n",
    "            qc.x(y_qr[i])\n",
    "\n",
    "    # Gunakan multi-controlled X untuk membalik qubit output jika semua match\n",
    "    qc.mcx(y_qr[:], out_qr[0])\n",
    "\n",
    "    # Uncomputation: Kembalikan gerbang X yang tadi diterapkan\n",
    "    for i in range(m):\n",
    "        if pattern_x[i] == '0':\n",
    "            qc.x(y_qr[i])\n",
    "\n",
    "    return qc.to_gate()"
   ]
  },
  {
   "cell_type": "code",
   "execution_count": 13,
   "id": "ee90868f",
   "metadata": {},
   "outputs": [],
   "source": [
    "def diffuser(n: int) -> Gate:\n",
    "    qc = QuantumCircuit(n)\n",
    "\n",
    "    qc.h(range(n))\n",
    "    qc.x(range(n))\n",
    "\n",
    "    qc.h(n-1)\n",
    "    qc.mcx(list(range(n-1)), n-1)\n",
    "    qc.h(n-1)\n",
    "\n",
    "    qc.x(range(n))\n",
    "    qc.h(range(n))\n",
    "\n",
    "    return qc.to_gate(label='DIFF')"
   ]
  },
  {
   "cell_type": "code",
   "execution_count": 11,
   "id": "74043bee",
   "metadata": {},
   "outputs": [],
   "source": [
    "def esm_oracle_improved(m: int, n: int, pattern_x: str) -> Gate:\n",
    "    \"\"\"Membangun oracle ESM (Exact String Match) yang dioptimalkan.\"\"\"\n",
    "    j_qr = QuantumRegister(int(log2(n)), 'j')\n",
    "    y_qr = QuantumRegister(n, 'y')\n",
    "    out_qr = QuantumRegister(1, 'out')\n",
    "    \n",
    "    qc = QuantumCircuit(j_qr, y_qr, out_qr)\n",
    "\n",
    "    # 1. Rotasi teks berdasarkan register posisi 'j'\n",
    "    qc.append(parameterized_rot(n).to_gate(), j_qr[:] + y_qr[:])\n",
    "    \n",
    "    # 2. Terapkan oracle match pada slice pertama dari teks yang sudah dirotasi\n",
    "    qc.append(match_gate_improved(m, pattern_x), y_qr[:m] + out_qr[:])\n",
    "\n",
    "    # 3. Uncomputation rotasi\n",
    "    qc.append(parameterized_rot(n).inverse().to_gate(), j_qr[:] + y_qr[:])\n",
    "    \n",
    "    return qc.to_gate(label='ESMO_imp')"
   ]
  },
  {
   "cell_type": "code",
   "execution_count": 14,
   "id": "e2b8cd26",
   "metadata": {},
   "outputs": [],
   "source": [
    "def grover_improved(t: int, x: str, y: str) -> QuantumCircuit:\n",
    "    \"\"\"Versi Grover yang dioptimalkan dengan kebutuhan qubit lebih sedikit.\"\"\"\n",
    "    n = len(y)\n",
    "    m = len(x)\n",
    "    logn = int(log2(n))\n",
    "    \n",
    "    # Hitung jumlah iterasi optimal\n",
    "    num_iterations = int(pi/4 * sqrt(n/t))\n",
    "    if num_iterations == 0: num_iterations = 1\n",
    "\n",
    "    # Buat Oracle yang sudah dioptimalkan\n",
    "    esmo_imp = esm_oracle_improved(m, n, x)\n",
    "\n",
    "    # Definisikan register kuantum (lebih sedikit)\n",
    "    j_qr = QuantumRegister(logn, 'j')\n",
    "    y_qr = QuantumRegister(n, 'y')\n",
    "    out_qr = QuantumRegister(1, 'out') # Hanya 1 qubit output\n",
    "    c_qr = ClassicalRegister(logn, 'c')\n",
    "    \n",
    "    qc = QuantumCircuit(j_qr, y_qr, out_qr, c_qr)\n",
    "    \n",
    "    # Inisialisasi state\n",
    "    qc.h(j_qr)\n",
    "    qc.x(out_qr)\n",
    "    qc.h(out_qr)\n",
    "    \n",
    "    # Inisialisasi teks y (pola x tidak perlu register)\n",
    "    qc.append(init_register(y), y_qr[:])\n",
    "    \n",
    "    # Loop Grover\n",
    "    diff = diffuser(logn)\n",
    "    for _ in range(num_iterations):\n",
    "        qc.append(esmo_imp, j_qr[:] + y_qr[:] + out_qr[:])\n",
    "        qc.append(diff, j_qr[:])\n",
    "        \n",
    "    # Pengukuran\n",
    "    qc.measure(j_qr, c_qr)\n",
    "    \n",
    "    return qc"
   ]
  },
  {
   "cell_type": "code",
   "execution_count": 16,
   "id": "da8cd8a5",
   "metadata": {},
   "outputs": [
    {
     "name": "stdout",
     "output_type": "stream",
     "text": [
      "Waktu eksekusi pencarian klasik: 0.000000 detik\n",
      "Pola '0000' ditemukan sebanyak 4 kali (termasuk tumpang tindih).\n",
      "Nilai 't' yang akan digunakan untuk Grover: 4\n",
      "\n",
      "Membangun sirkuit Grover untuk menemukan 4 solusi...\n"
     ]
    },
    {
     "name": "stderr",
     "output_type": "stream",
     "text": [
      "Exception ignored in: <bound method IPythonKernel._clean_thread_parent_frames of <ipykernel.ipkernel.IPythonKernel object at 0x000001FE21DBE510>>\n",
      "Traceback (most recent call last):\n",
      "  File \"c:\\Users\\ASUS\\miniconda3\\envs\\py311\\Lib\\site-packages\\ipykernel\\ipkernel.py\", line 775, in _clean_thread_parent_frames\n",
      "    def _clean_thread_parent_frames(\n",
      "\n",
      "KeyboardInterrupt: \n"
     ]
    },
    {
     "name": "stdout",
     "output_type": "stream",
     "text": [
      ">>> Job ID: d1455v5vneuc73dpg6b0\n",
      ">>> Job Status: QUEUED\n",
      "Waktu eksekusi pencarian kuantum: 39.723782 detik\n",
      "\n",
      "Hasil dari eksekusi kuantum:\n"
     ]
    },
    {
     "data": {
      "image/png": "[encoded data removed]",
      "text/plain": [
       "<Figure size 640x480 with 1 Axes>"
      ]
     },
     "execution_count": 16,
     "metadata": {},
     "output_type": "execute_result"
    }
   ],
   "source": [
    "# IBM -> Lama di IBM 3s\n",
    "import time\n",
    "\n",
    "# Definisikan pola dan teks Anda\n",
    "x = \"0000\"\n",
    "y = \"10000111100001111000011110000111\"\n",
    "m = len(x)\n",
    "N = len(y)\n",
    "\n",
    "# --- LANGKAH 1 (DIPERBAIKI): Hitung t dengan memperhitungkan tumpang tindih ---\n",
    "t = 0  # Inisialisasi jumlah kemunculan\n",
    "# Loop dari setiap posisi awal yang memungkinkan di y\n",
    "start_time = time.time()\n",
    "for i in range(N - m + 1):\n",
    "    # Periksa apakah substring dari y sama dengan x\n",
    "    if y[i:i+m] == x:\n",
    "        t += 1\n",
    "end_time = time.time()\n",
    "print(f\"Waktu eksekusi pencarian klasik: {end_time - start_time:.6f} detik\")\n",
    "\n",
    "print(f\"Pola '{x}' ditemukan sebanyak {t} kali (termasuk tumpang tindih).\")\n",
    "print(f\"Nilai 't' yang akan digunakan untuk Grover: {t}\")\n",
    "\n",
    "# --- LANGKAH 2: Tetap sama, panggil Grover sekali saja dengan t yang benar ---\n",
    "print(f\"\\nMembangun sirkuit Grover untuk menemukan {t} solusi...\")\n",
    "\n",
    "esmo = esm_oracle_improved(m, N, x)\n",
    "quantum_circuit = grover_improved(t, x, y)\n",
    "\n",
    "# Jalankan sirkuit\n",
    "start_time = time.time()\n",
    "counts = run(quantum_circuit, shots=1024)\n",
    "end_time = time.time()\n",
    "print(f\"Waktu eksekusi pencarian kuantum: {end_time - start_time:.6f} detik\")\n",
    "print(\"\\nHasil dari eksekusi kuantum:\")\n",
    "plot_histogram(counts)"
   ]
  }
 ],
 "metadata": {
  "kernelspec": {
   "display_name": "py311",
   "language": "python",
   "name": "python3"
  },
  "language_info": {
   "codemirror_mode": {
    "name": "ipython",
    "version": 3
   },
   "file_extension": ".py",
   "mimetype": "text/x-python",
   "name": "python",
   "nbconvert_exporter": "python",
   "pygments_lexer": "ipython3",
   "version": "3.11.11"
  }
 },
 "nbformat": 4,
 "nbformat_minor": 5
}
