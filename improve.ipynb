{
 "cells": [
  {
   "cell_type": "code",
   "execution_count": 1,
   "id": "b6e17e88",
   "metadata": {},
   "outputs": [],
   "source": [
    "from numpy import log2, sqrt\n",
    "from numpy import pi\n",
    "\n",
    "from qiskit.visualization import plot_histogram\n",
    "from qiskit.circuit.gate import Gate\n",
    "from qiskit import QuantumCircuit, QuantumRegister, ClassicalRegister\n",
    "from qiskit_aer import Aer\n",
    "from qiskit import transpile"
   ]
  },
  {
   "cell_type": "code",
   "execution_count": 2,
   "id": "592dc3ec",
   "metadata": {},
   "outputs": [],
   "source": [
    "from qiskit_ibm_runtime import QiskitRuntimeService, Sampler"
   ]
  },
  {
   "cell_type": "code",
   "execution_count": 3,
   "id": "87f72674",
   "metadata": {},
   "outputs": [
    {
     "name": "stdout",
     "output_type": "stream",
     "text": [
      "[<IBMBackend('ibm_brisbane')>, <IBMBackend('ibm_sherbrooke')>, <IBMBackend('ibm_torino')>]\n"
     ]
    }
   ],
   "source": [
    "service = QiskitRuntimeService()\n",
    "print(service.backends())"
   ]
  },
  {
   "cell_type": "code",
   "execution_count": 4,
   "id": "3270a3da",
   "metadata": {},
   "outputs": [],
   "source": [
    "# def run(circuit, shots=1024):\n",
    "#     backend = service.backend('ibm_brisbane')\n",
    "#     transpiled = transpile(circuit, backend)\n",
    "#     sampler = Sampler(mode=backend)\n",
    "#     job = sampler.run([transpiled], shots=shots)\n",
    "#     print(f\">>> Job ID: {job.job_id()}\")\n",
    "#     print(f\">>> Job Status: {job.status()}\")\n",
    "#     result = job.result()\n",
    "#     pub_result = result[0]\n",
    "#     counts = pub_result.join_data().get_counts()\n",
    "#     return counts"
   ]
  },
  {
   "cell_type": "code",
   "execution_count": 5,
   "id": "af37afe3",
   "metadata": {},
   "outputs": [],
   "source": [
    "def run(circuit: QuantumCircuit, shots: int) -> dict:\n",
    "    # Mendapatkan backend simulator dari Aer\n",
    "    simulator = Aer.get_backend('aer_simulator')\n",
    "\n",
    "    # Transpile sirkuit untuk optimasi pada backend simulator\n",
    "    compiled_circuit = transpile(circuit, simulator)\n",
    "\n",
    "    # Menjalankan sirkuit\n",
    "    job = simulator.run(compiled_circuit, shots=shots)\n",
    "\n",
    "    # Mengambil hasil eksekusi\n",
    "    result = job.result()\n",
    "\n",
    "    # Mengembalikan kamus hasil pengukuran\n",
    "    return result.get_counts(compiled_circuit)"
   ]
  },
  {
   "cell_type": "code",
   "execution_count": 6,
   "id": "9c57cb38",
   "metadata": {},
   "outputs": [],
   "source": [
    "def init_register(bin_str: str) -> QuantumCircuit:\n",
    "    data_qr = QuantumRegister(len(bin_str), 'data')\n",
    "    qc = QuantumCircuit(data_qr)\n",
    "\n",
    "    for i, bit in enumerate(bin_str):\n",
    "        if bit == '1':\n",
    "            qc.x(data_qr[i])\n",
    "\n",
    "    return qc"
   ]
  },
  {
   "cell_type": "code",
   "execution_count": 7,
   "id": "d761607f",
   "metadata": {},
   "outputs": [],
   "source": [
    "def rot(n: int, s: int) -> QuantumCircuit:\n",
    "    y_qr = QuantumRegister(n, 'y')\n",
    "    qc = QuantumCircuit(y_qr, name='ROT_' + str(s))\n",
    "\n",
    "    for i in range(1, (int(log2(n)) - int(log2(s)) + 2)):\n",
    "        for j in range(int(n / (s * (2**i)))):\n",
    "            for q in range(j * s * (2**i), s * (j*2 ** i+1)):\n",
    "                qc.swap(n - 1 - (q+s), n - 1 - (q+2 ** (i-1) * s + s))\n",
    "\n",
    "    return qc"
   ]
  },
  {
   "cell_type": "code",
   "execution_count": 8,
   "id": "027d262f",
   "metadata": {},
   "outputs": [],
   "source": [
    "def rot_gate(n: int, s: int) -> Gate:\n",
    "    rot_circuit = rot(n, s)\n",
    "    return rot_circuit.to_gate(label='ROT_' + str(s))"
   ]
  },
  {
   "cell_type": "code",
   "execution_count": 9,
   "id": "019960a6",
   "metadata": {},
   "outputs": [],
   "source": [
    "def parameterized_rot(n: int) -> QuantumCircuit:\n",
    "    j_qr = QuantumRegister(int(log2(n)), 'j')\n",
    "    y_qr = QuantumRegister(n, 'y')\n",
    "    qc = QuantumCircuit(j_qr, y_qr)\n",
    "\n",
    "    for i in range(int(log2(n))):\n",
    "        crot = rot_gate(n, 2**i).control(1)\n",
    "        qc = qc.compose(crot, [j_qr[i]] + y_qr[:])\n",
    "\n",
    "    return qc"
   ]
  },
  {
   "cell_type": "code",
   "execution_count": 10,
   "id": "43a238cf",
   "metadata": {},
   "outputs": [],
   "source": [
    "def match_gate_improved(m: int, pattern_x: str) -> Gate:\n",
    "    \"\"\"\n",
    "    Membuat gerbang oracle 'match' yang membandingkan slice dari register 'y'\n",
    "    dengan pola klasik 'pattern_x' yang di-hardcode.\n",
    "    \"\"\"\n",
    "    y_qr = QuantumRegister(m, 'y')\n",
    "    out_qr = QuantumRegister(1, 'out')\n",
    "    qc = QuantumCircuit(y_qr, out_qr, name=f\"MATCH_{pattern_x}\")\n",
    "\n",
    "    # Terapkan gerbang X pada qubit y jika bit pola adalah '0'.\n",
    "    # Ini untuk menyamakan semua kondisi match menjadi |11...1>\n",
    "    for i in range(m):\n",
    "        if pattern_x[i] == '0':\n",
    "            qc.x(y_qr[i])\n",
    "\n",
    "    # Gunakan multi-controlled X untuk membalik qubit output jika semua match\n",
    "    qc.mcx(y_qr[:], out_qr[0])\n",
    "\n",
    "    # Uncomputation: Kembalikan gerbang X yang tadi diterapkan\n",
    "    for i in range(m):\n",
    "        if pattern_x[i] == '0':\n",
    "            qc.x(y_qr[i])\n",
    "\n",
    "    return qc.to_gate()"
   ]
  },
  {
   "cell_type": "code",
   "execution_count": 11,
   "id": "ee90868f",
   "metadata": {},
   "outputs": [],
   "source": [
    "def diffuser(n: int) -> Gate:\n",
    "    qc = QuantumCircuit(n)\n",
    "\n",
    "    qc.h(range(n))\n",
    "    qc.x(range(n))\n",
    "\n",
    "    qc.h(n-1)\n",
    "    qc.mcx(list(range(n-1)), n-1)\n",
    "    qc.h(n-1)\n",
    "\n",
    "    qc.x(range(n))\n",
    "    qc.h(range(n))\n",
    "\n",
    "    return qc.to_gate(label='DIFF')"
   ]
  },
  {
   "cell_type": "code",
   "execution_count": 12,
   "id": "74043bee",
   "metadata": {},
   "outputs": [],
   "source": [
    "def esm_oracle_improved(m: int, n: int, pattern_x: str) -> Gate:\n",
    "    \"\"\"Membangun oracle ESM (Exact String Match) yang dioptimalkan.\"\"\"\n",
    "    j_qr = QuantumRegister(int(log2(n)), 'j')\n",
    "    y_qr = QuantumRegister(n, 'y')\n",
    "    out_qr = QuantumRegister(1, 'out')\n",
    "    \n",
    "    qc = QuantumCircuit(j_qr, y_qr, out_qr)\n",
    "\n",
    "    # 1. Rotasi teks berdasarkan register posisi 'j'\n",
    "    qc.append(parameterized_rot(n).to_gate(), j_qr[:] + y_qr[:])\n",
    "    \n",
    "    # 2. Terapkan oracle match pada slice pertama dari teks yang sudah dirotasi\n",
    "    qc.append(match_gate_improved(m, pattern_x), y_qr[:m] + out_qr[:])\n",
    "\n",
    "    # 3. Uncomputation rotasi\n",
    "    qc.append(parameterized_rot(n).inverse().to_gate(), j_qr[:] + y_qr[:])\n",
    "    \n",
    "    return qc.to_gate(label='ESMO_imp')"
   ]
  },
  {
   "cell_type": "code",
   "execution_count": 13,
   "id": "e2b8cd26",
   "metadata": {},
   "outputs": [],
   "source": [
    "def grover_improved(t: int, x: str, y: str) -> QuantumCircuit:\n",
    "    \"\"\"Versi Grover yang dioptimalkan dengan kebutuhan qubit lebih sedikit.\"\"\"\n",
    "    n = len(y)\n",
    "    m = len(x)\n",
    "    logn = int(log2(n))\n",
    "    \n",
    "    # Hitung jumlah iterasi optimal\n",
    "    num_iterations = int(pi/4 * sqrt(n/t))\n",
    "    if num_iterations == 0: num_iterations = 1\n",
    "\n",
    "    # Buat Oracle yang sudah dioptimalkan\n",
    "    esmo_imp = esm_oracle_improved(m, n, x)\n",
    "\n",
    "    # Definisikan register kuantum (lebih sedikit)\n",
    "    j_qr = QuantumRegister(logn, 'j')\n",
    "    y_qr = QuantumRegister(n, 'y')\n",
    "    out_qr = QuantumRegister(1, 'out') # Hanya 1 qubit output\n",
    "    c_qr = ClassicalRegister(logn, 'c')\n",
    "    \n",
    "    qc = QuantumCircuit(j_qr, y_qr, out_qr, c_qr)\n",
    "    \n",
    "    # Inisialisasi state\n",
    "    qc.h(j_qr)\n",
    "    qc.x(out_qr)\n",
    "    qc.h(out_qr)\n",
    "    \n",
    "    # Inisialisasi teks y (pola x tidak perlu register)\n",
    "    qc.append(init_register(y), y_qr[:])\n",
    "    \n",
    "    # Loop Grover\n",
    "    diff = diffuser(logn)\n",
    "    for _ in range(num_iterations):\n",
    "        qc.append(esmo_imp, j_qr[:] + y_qr[:] + out_qr[:])\n",
    "        qc.append(diff, j_qr[:])\n",
    "        \n",
    "    # Pengukuran\n",
    "    qc.measure(j_qr, c_qr)\n",
    "    \n",
    "    return qc"
   ]
  },
  {
   "cell_type": "code",
   "execution_count": 15,
   "id": "da8cd8a5",
   "metadata": {},
   "outputs": [
    {
     "name": "stdout",
     "output_type": "stream",
     "text": [
      "\n",
      "Membangun sirkuit Grover untuk menemukan 2 solusi...\n",
      "Waktu eksekusi pencarian kuantum: 0.766398 detik\n",
      "\n",
      "--- Hasil Pencarian Kuantum ---\n",
      "✅ Pola ditemukan pada posisi (indeks): [5, 9]\n",
      "Jumlah solusi yang ditemukan: 2\n",
      "\n",
      "Distribusi probabilitas hasil pengukuran:\n"
     ]
    },
    {
     "data": {
      "image/png": "[encoded data removed]",
      "text/plain": [
       "<Figure size 640x480 with 1 Axes>"
      ]
     },
     "execution_count": 15,
     "metadata": {},
     "output_type": "execute_result"
    }
   ],
   "source": [
    "# IBM\n",
    "import time\n",
    "import operator\n",
    "\n",
    "# Definisikan pola dan teks Anda\n",
    "x = \"10\"\n",
    "y = \"1111110111011111\"\n",
    "m = len(x)\n",
    "N = len(y)\n",
    "t = 2\n",
    "\n",
    "# --- LANGKAH 1: Bangun dan jalankan sirkuit Grover ---\n",
    "print(f\"\\nMembangun sirkuit Grover untuk menemukan 2 solusi...\")\n",
    "quantum_circuit = grover_improved(t, x, y)\n",
    "\n",
    "# Jalankan sirkuit\n",
    "start_time = time.time()\n",
    "# Menambah jumlah shots untuk hasil yang lebih stabil\n",
    "shots = 1024 \n",
    "counts = run(quantum_circuit, shots=shots)\n",
    "end_time = time.time()\n",
    "print(f\"Waktu eksekusi pencarian kuantum: {end_time - start_time:.6f} detik\")\n",
    "print(\"\\n--- Hasil Pencarian Kuantum ---\")\n",
    "\n",
    "# --- LANGKAH 2 : Proses hasil untuk menampilkan lokasi ---\n",
    "\n",
    "# 1. Urutkan hasil berdasarkan jumlah pengukuran (probabilitas)\n",
    "sorted_counts = sorted(counts.items(), key=operator.itemgetter(1), reverse=True)\n",
    "\n",
    "# 2. Filter hasil yang memiliki probabilitas signifikan (threshold)\n",
    "threshold = shots * 0.1  # Minimal 10% dari total shots\n",
    "significant_results = [(pos, count) for pos, count in sorted_counts if count >= threshold]\n",
    "\n",
    "# 3. Ambil maksimal 't' hasil yang signifikan\n",
    "actual_results = significant_results[:t] if len(significant_results) >= t else significant_results\n",
    "\n",
    "# 4. Konversi hasil biner ke desimal dan kumpulkan posisinya\n",
    "found_positions = [int(pos, 2) for pos, count in actual_results]\n",
    "found_positions.sort()\n",
    "\n",
    "# 5. Tampilkan hasilnya\n",
    "if found_positions:\n",
    "    print(f\"✅ Pola ditemukan pada posisi (indeks): {found_positions}\")\n",
    "    print(f\"Jumlah solusi yang ditemukan: {len(found_positions)}\")\n",
    "else:\n",
    "    print(\"❌ Pola tidak ditemukan.\")\n",
    "\n",
    "print(\"\\nDistribusi probabilitas hasil pengukuran:\")\n",
    "plot_histogram(counts)"
   ]
  },
  {
   "cell_type": "code",
   "execution_count": 16,
   "id": "3229078a",
   "metadata": {},
   "outputs": [
    {
     "name": "stdout",
     "output_type": "stream",
     "text": [
      "\n",
      "Membangun sirkuit Grover untuk menemukan 2 solusi...\n",
      "Waktu eksekusi pencarian kuantum: 0.784220 detik\n",
      "\n",
      "--- Hasil Pencarian Kuantum ---\n",
      "✅ Pola ditemukan pada posisi (indeks): [9]\n",
      "Jumlah solusi yang ditemukan: 1\n",
      "\n",
      "Distribusi probabilitas hasil pengukuran:\n"
     ]
    },
    {
     "data": {
      "image/png": "[encoded data removed]",
      "text/plain": [
       "<Figure size 640x480 with 1 Axes>"
      ]
     },
     "execution_count": 16,
     "metadata": {},
     "output_type": "execute_result"
    }
   ],
   "source": [
    "# Aer Simulator 1 solution\n",
    "import time\n",
    "import operator\n",
    "\n",
    "# Definisikan pola dan teks Anda\n",
    "x = \"10\"\n",
    "y = \"1111111111011111\"\n",
    "m = len(x)\n",
    "N = len(y)\n",
    "t = 2\n",
    "\n",
    "# --- LANGKAH 1: Bangun dan jalankan sirkuit Grover ---\n",
    "print(f\"\\nMembangun sirkuit Grover untuk menemukan 2 solusi...\")\n",
    "quantum_circuit = grover_improved(t, x, y)\n",
    "\n",
    "# Jalankan sirkuit\n",
    "start_time = time.time()\n",
    "# Menambah jumlah shots untuk hasil yang lebih stabil\n",
    "shots = 1024 \n",
    "counts = run(quantum_circuit, shots=shots)\n",
    "end_time = time.time()\n",
    "print(f\"Waktu eksekusi pencarian kuantum: {end_time - start_time:.6f} detik\")\n",
    "print(\"\\n--- Hasil Pencarian Kuantum ---\")\n",
    "\n",
    "# --- LANGKAH 2 : Proses hasil untuk menampilkan lokasi ---\n",
    "\n",
    "# 1. Urutkan hasil berdasarkan jumlah pengukuran (probabilitas)\n",
    "sorted_counts = sorted(counts.items(), key=operator.itemgetter(1), reverse=True)\n",
    "\n",
    "# 2. Filter hasil yang memiliki probabilitas signifikan (threshold)\n",
    "threshold = shots * 0.1  # Minimal 10% dari total shots\n",
    "significant_results = [(pos, count) for pos, count in sorted_counts if count >= threshold]\n",
    "\n",
    "# 3. Ambil maksimal 't' hasil yang signifikan\n",
    "actual_results = significant_results[:t] if len(significant_results) >= t else significant_results\n",
    "\n",
    "# 4. Konversi hasil biner ke desimal dan kumpulkan posisinya\n",
    "found_positions = [int(pos, 2) for pos, count in actual_results]\n",
    "found_positions.sort()\n",
    "\n",
    "# 5. Tampilkan hasilnya\n",
    "if found_positions:\n",
    "    print(f\"✅ Pola ditemukan pada posisi (indeks): {found_positions}\")\n",
    "    print(f\"Jumlah solusi yang ditemukan: {len(found_positions)}\")\n",
    "else:\n",
    "    print(\"❌ Pola tidak ditemukan.\")\n",
    "\n",
    "print(\"\\nDistribusi probabilitas hasil pengukuran:\")\n",
    "plot_histogram(counts)"
   ]
  },
  {
   "cell_type": "code",
   "execution_count": 17,
   "id": "7ed76d39",
   "metadata": {},
   "outputs": [
    {
     "name": "stdout",
     "output_type": "stream",
     "text": [
      "\n",
      "Membangun sirkuit Grover untuk menemukan 2 solusi...\n",
      "Waktu eksekusi pencarian kuantum: 0.671113 detik\n",
      "\n",
      "--- Hasil Pencarian Kuantum ---\n",
      "✅ Pola ditemukan pada posisi (indeks): [5, 9]\n",
      "Jumlah solusi yang ditemukan: 2\n",
      "\n",
      "Distribusi probabilitas hasil pengukuran:\n"
     ]
    },
    {
     "data": {
      "image/png": "[encoded data removed]",
      "text/plain": [
       "<Figure size 640x480 with 1 Axes>"
      ]
     },
     "execution_count": 17,
     "metadata": {},
     "output_type": "execute_result"
    }
   ],
   "source": [
    "# Aer Simulator 2 solution\n",
    "import time\n",
    "import operator\n",
    "\n",
    "# Definisikan pola dan teks Anda\n",
    "x = \"10\"\n",
    "y = \"1111110111011111\"\n",
    "m = len(x)\n",
    "N = len(y)\n",
    "t = 2\n",
    "\n",
    "# --- LANGKAH 1: Bangun dan jalankan sirkuit Grover ---\n",
    "print(f\"\\nMembangun sirkuit Grover untuk menemukan 2 solusi...\")\n",
    "quantum_circuit = grover_improved(t, x, y)\n",
    "\n",
    "# Jalankan sirkuit\n",
    "start_time = time.time()\n",
    "# Menambah jumlah shots untuk hasil yang lebih stabil\n",
    "shots = 1024 \n",
    "counts = run(quantum_circuit, shots=shots)\n",
    "end_time = time.time()\n",
    "print(f\"Waktu eksekusi pencarian kuantum: {end_time - start_time:.6f} detik\")\n",
    "print(\"\\n--- Hasil Pencarian Kuantum ---\")\n",
    "\n",
    "# --- LANGKAH 2 : Proses hasil untuk menampilkan lokasi ---\n",
    "\n",
    "# 1. Urutkan hasil berdasarkan jumlah pengukuran (probabilitas)\n",
    "sorted_counts = sorted(counts.items(), key=operator.itemgetter(1), reverse=True)\n",
    "\n",
    "# 2. Filter hasil yang memiliki probabilitas signifikan (threshold)\n",
    "threshold = shots * 0.1  # Minimal 10% dari total shots\n",
    "significant_results = [(pos, count) for pos, count in sorted_counts if count >= threshold]\n",
    "\n",
    "# 3. Ambil maksimal 't' hasil yang signifikan\n",
    "actual_results = significant_results[:t] if len(significant_results) >= t else significant_results\n",
    "\n",
    "# 4. Konversi hasil biner ke desimal dan kumpulkan posisinya\n",
    "found_positions = [int(pos, 2) for pos, count in actual_results]\n",
    "found_positions.sort()\n",
    "\n",
    "# 5. Tampilkan hasilnya\n",
    "if found_positions:\n",
    "    print(f\"✅ Pola ditemukan pada posisi (indeks): {found_positions}\")\n",
    "    print(f\"Jumlah solusi yang ditemukan: {len(found_positions)}\")\n",
    "else:\n",
    "    print(\"❌ Pola tidak ditemukan.\")\n",
    "\n",
    "print(\"\\nDistribusi probabilitas hasil pengukuran:\")\n",
    "plot_histogram(counts)"
   ]
  },
  {
   "cell_type": "code",
   "execution_count": 18,
   "id": "7c9f3058",
   "metadata": {},
   "outputs": [
    {
     "name": "stdout",
     "output_type": "stream",
     "text": [
      "\n",
      "Membangun sirkuit Grover untuk menemukan 2 solusi...\n",
      "Waktu eksekusi pencarian kuantum: 0.668578 detik\n",
      "\n",
      "--- Hasil Pencarian Kuantum ---\n",
      "✅ Pola ditemukan pada posisi (indeks): [7, 9]\n",
      "Jumlah solusi yang ditemukan: 2\n",
      "\n",
      "Distribusi probabilitas hasil pengukuran:\n"
     ]
    },
    {
     "data": {
      "image/png": "[encoded data removed]",
      "text/plain": [
       "<Figure size 640x480 with 1 Axes>"
      ]
     },
     "execution_count": 18,
     "metadata": {},
     "output_type": "execute_result"
    }
   ],
   "source": [
    "# Aer Simulator 3 solution\n",
    "import time\n",
    "import operator\n",
    "\n",
    "# Definisikan pola dan teks Anda\n",
    "x = \"10\"\n",
    "y = \"1111110101011111\"\n",
    "m = len(x)\n",
    "N = len(y)\n",
    "t = 2\n",
    "\n",
    "# --- LANGKAH 1: Bangun dan jalankan sirkuit Grover ---\n",
    "print(f\"\\nMembangun sirkuit Grover untuk menemukan 2 solusi...\")\n",
    "quantum_circuit = grover_improved(t, x, y)\n",
    "\n",
    "# Jalankan sirkuit\n",
    "start_time = time.time()\n",
    "# Menambah jumlah shots untuk hasil yang lebih stabil\n",
    "shots = 1024 \n",
    "counts = run(quantum_circuit, shots=shots)\n",
    "end_time = time.time()\n",
    "print(f\"Waktu eksekusi pencarian kuantum: {end_time - start_time:.6f} detik\")\n",
    "print(\"\\n--- Hasil Pencarian Kuantum ---\")\n",
    "\n",
    "# --- LANGKAH 2 : Proses hasil untuk menampilkan lokasi ---\n",
    "\n",
    "# 1. Urutkan hasil berdasarkan jumlah pengukuran (probabilitas)\n",
    "sorted_counts = sorted(counts.items(), key=operator.itemgetter(1), reverse=True)\n",
    "\n",
    "# 2. Filter hasil yang memiliki probabilitas signifikan (threshold)\n",
    "threshold = shots * 0.1  # Minimal 10% dari total shots\n",
    "significant_results = [(pos, count) for pos, count in sorted_counts if count >= threshold]\n",
    "\n",
    "# 3. Ambil maksimal 't' hasil yang signifikan\n",
    "actual_results = significant_results[:t] if len(significant_results) >= t else significant_results\n",
    "\n",
    "# 4. Konversi hasil biner ke desimal dan kumpulkan posisinya\n",
    "found_positions = [int(pos, 2) for pos, count in actual_results]\n",
    "found_positions.sort()\n",
    "\n",
    "# 5. Tampilkan hasilnya\n",
    "if found_positions:\n",
    "    print(f\"✅ Pola ditemukan pada posisi (indeks): {found_positions}\")\n",
    "    print(f\"Jumlah solusi yang ditemukan: {len(found_positions)}\")\n",
    "else:\n",
    "    print(\"❌ Pola tidak ditemukan.\")\n",
    "\n",
    "print(\"\\nDistribusi probabilitas hasil pengukuran:\")\n",
    "plot_histogram(counts)"
   ]
  }
 ],
 "metadata": {
  "kernelspec": {
   "display_name": "py311",
   "language": "python",
   "name": "python3"
  },
  "language_info": {
   "codemirror_mode": {
    "name": "ipython",
    "version": 3
   },
   "file_extension": ".py",
   "mimetype": "text/x-python",
   "name": "python",
   "nbconvert_exporter": "python",
   "pygments_lexer": "ipython3",
   "version": "3.11.11"
  }
 },
 "nbformat": 4,
 "nbformat_minor": 5
}
